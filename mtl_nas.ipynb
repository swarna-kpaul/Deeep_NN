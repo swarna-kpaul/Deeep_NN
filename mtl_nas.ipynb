{
  "cells": [
    {
      "cell_type": "markdown",
      "metadata": {
        "id": "view-in-github",
        "colab_type": "text"
      },
      "source": [
        "<a href=\"https://colab.research.google.com/github/swarna-kpaul/Deeep_NN/blob/master/mtl_nas.ipynb\" target=\"_parent\"><img src=\"https://colab.research.google.com/assets/colab-badge.svg\" alt=\"Open In Colab\"/></a>"
      ]
    },
    {
      "cell_type": "code",
      "execution_count": null,
      "metadata": {
        "colab": {
          "base_uri": "https://localhost:8080/"
        },
        "id": "VFr92xKKY2zJ",
        "outputId": "25f4e9ca-9300-45f4-d5f7-83d8f3d40169"
      },
      "outputs": [
        {
          "output_type": "stream",
          "name": "stdout",
          "text": [
            "fatal: destination path 'MTLNAS' already exists and is not an empty directory.\n"
          ]
        }
      ],
      "source": [
        "!git clone https://github.com/bhpfelix/MTLNAS"
      ]
    },
    {
      "cell_type": "code",
      "source": [
        "%cd MTLNAS"
      ],
      "metadata": {
        "colab": {
          "base_uri": "https://localhost:8080/"
        },
        "id": "pkSmyP3B5iEu",
        "outputId": "d582267a-41a0-4044-db97-41ad74b9e912"
      },
      "execution_count": null,
      "outputs": [
        {
          "output_type": "stream",
          "name": "stdout",
          "text": [
            "[Errno 2] No such file or directory: 'MTLNAS'\n",
            "/content/MTLNAS\n"
          ]
        }
      ]
    },
    {
      "cell_type": "code",
      "execution_count": null,
      "metadata": {
        "colab": {
          "base_uri": "https://localhost:8080/"
        },
        "id": "-ihIhTpyVbJm",
        "outputId": "8c18b145-097b-4658-b4f5-286f5837314c"
      },
      "outputs": [
        {
          "output_type": "stream",
          "name": "stdout",
          "text": [
            "Looking in indexes: https://pypi.org/simple, https://us-python.pkg.dev/colab-wheels/public/simple/\n",
            "Requirement already satisfied: certifi==2019.11.28 in /usr/local/lib/python3.8/dist-packages (from -r requirements.txt (line 1)) (2019.11.28)\n",
            "Requirement already satisfied: cycler==0.10.0 in /usr/local/lib/python3.8/dist-packages (from -r requirements.txt (line 2)) (0.10.0)\n",
            "Requirement already satisfied: decorator==4.4.2 in /usr/local/lib/python3.8/dist-packages (from -r requirements.txt (line 3)) (4.4.2)\n",
            "Requirement already satisfied: imageio==2.8.0 in /usr/local/lib/python3.8/dist-packages (from -r requirements.txt (line 4)) (2.8.0)\n",
            "Requirement already satisfied: kiwisolver==1.1.0 in /usr/local/lib/python3.8/dist-packages (from -r requirements.txt (line 5)) (1.1.0)\n",
            "Requirement already satisfied: matplotlib==3.2.0 in /usr/local/lib/python3.8/dist-packages (from -r requirements.txt (line 6)) (3.2.0)\n",
            "Requirement already satisfied: networkx==2.4 in /usr/local/lib/python3.8/dist-packages (from -r requirements.txt (line 7)) (2.4)\n",
            "Requirement already satisfied: numpy==1.18.1 in /usr/local/lib/python3.8/dist-packages (from -r requirements.txt (line 8)) (1.18.1)\n",
            "Requirement already satisfied: Pillow==7.0.0 in /usr/local/lib/python3.8/dist-packages (from -r requirements.txt (line 9)) (7.0.0)\n",
            "Requirement already satisfied: protobuf==3.11.3 in /usr/local/lib/python3.8/dist-packages (from -r requirements.txt (line 10)) (3.11.3)\n",
            "Requirement already satisfied: pyparsing==2.4.6 in /usr/local/lib/python3.8/dist-packages (from -r requirements.txt (line 11)) (2.4.6)\n",
            "Requirement already satisfied: python-dateutil==2.8.1 in /usr/local/lib/python3.8/dist-packages (from -r requirements.txt (line 12)) (2.8.1)\n",
            "Requirement already satisfied: PyYAML==5.3 in /usr/local/lib/python3.8/dist-packages (from -r requirements.txt (line 13)) (5.3)\n",
            "Requirement already satisfied: six==1.14.0 in /usr/local/lib/python3.8/dist-packages (from -r requirements.txt (line 14)) (1.14.0)\n",
            "Requirement already satisfied: tensorboardX==2.0 in /usr/local/lib/python3.8/dist-packages (from -r requirements.txt (line 15)) (2.0)\n",
            "Requirement already satisfied: torch==1.4.0 in /usr/local/lib/python3.8/dist-packages (from -r requirements.txt (line 16)) (1.4.0)\n",
            "Requirement already satisfied: torchvision==0.5.0 in /usr/local/lib/python3.8/dist-packages (from -r requirements.txt (line 17)) (0.5.0)\n",
            "Requirement already satisfied: tqdm==4.43.0 in /usr/local/lib/python3.8/dist-packages (from -r requirements.txt (line 18)) (4.43.0)\n",
            "Requirement already satisfied: yacs==0.1.6 in /usr/local/lib/python3.8/dist-packages (from -r requirements.txt (line 19)) (0.1.6)\n",
            "Requirement already satisfied: setuptools in /usr/local/lib/python3.8/dist-packages (from kiwisolver==1.1.0->-r requirements.txt (line 5)) (57.4.0)\n"
          ]
        }
      ],
      "source": [
        "!pip install -r requirements.txt # install nni"
      ]
    },
    {
      "cell_type": "code",
      "source": [
        "!pip install --upgrade --no-cache-dir gdown"
      ],
      "metadata": {
        "colab": {
          "base_uri": "https://localhost:8080/"
        },
        "id": "sVkwH1MJ70um",
        "outputId": "5c6fa7b3-aa6b-43fd-f3ea-574015529273"
      },
      "execution_count": null,
      "outputs": [
        {
          "output_type": "stream",
          "name": "stdout",
          "text": [
            "Looking in indexes: https://pypi.org/simple, https://us-python.pkg.dev/colab-wheels/public/simple/\n",
            "Requirement already satisfied: gdown in /usr/local/lib/python3.8/dist-packages (4.4.0)\n",
            "Collecting gdown\n",
            "  Downloading gdown-4.6.0-py3-none-any.whl (14 kB)\n",
            "Requirement already satisfied: filelock in /usr/local/lib/python3.8/dist-packages (from gdown) (3.9.0)\n",
            "Requirement already satisfied: tqdm in /usr/local/lib/python3.8/dist-packages (from gdown) (4.43.0)\n",
            "Requirement already satisfied: requests[socks] in /usr/local/lib/python3.8/dist-packages (from gdown) (2.25.1)\n",
            "Requirement already satisfied: beautifulsoup4 in /usr/local/lib/python3.8/dist-packages (from gdown) (4.6.3)\n",
            "Requirement already satisfied: six in /usr/local/lib/python3.8/dist-packages (from gdown) (1.14.0)\n",
            "Requirement already satisfied: certifi>=2017.4.17 in /usr/local/lib/python3.8/dist-packages (from requests[socks]->gdown) (2019.11.28)\n",
            "Requirement already satisfied: chardet<5,>=3.0.2 in /usr/local/lib/python3.8/dist-packages (from requests[socks]->gdown) (4.0.0)\n",
            "Requirement already satisfied: idna<3,>=2.5 in /usr/local/lib/python3.8/dist-packages (from requests[socks]->gdown) (2.10)\n",
            "Requirement already satisfied: urllib3<1.27,>=1.21.1 in /usr/local/lib/python3.8/dist-packages (from requests[socks]->gdown) (1.24.3)\n",
            "Requirement already satisfied: PySocks!=1.5.7,>=1.5.6 in /usr/local/lib/python3.8/dist-packages (from requests[socks]->gdown) (1.7.1)\n",
            "Installing collected packages: gdown\n",
            "  Attempting uninstall: gdown\n",
            "    Found existing installation: gdown 4.4.0\n",
            "    Uninstalling gdown-4.4.0:\n",
            "      Successfully uninstalled gdown-4.4.0\n",
            "Successfully installed gdown-4.6.0\n"
          ]
        }
      ]
    },
    {
      "cell_type": "code",
      "execution_count": null,
      "metadata": {
        "colab": {
          "base_uri": "https://localhost:8080/"
        },
        "id": "EqhFCdDi24wn",
        "outputId": "cfdb6b88-7d13-4729-d57c-91f668320472"
      },
      "outputs": [
        {
          "output_type": "stream",
          "name": "stdout",
          "text": [
            "Downloading...\n",
            "From: https://drive.google.com/uc?id=13caGJwskbeEgxGXYbdCH59a0FEWIWZnB\n",
            "To: /content/MTLNAS/weights_old.zip\n",
            "100% 229M/229M [00:02<00:00, 96.4MB/s]\n"
          ]
        }
      ],
      "source": [
        "!gdown 13caGJwskbeEgxGXYbdCH59a0FEWIWZnB"
      ]
    },
    {
      "cell_type": "code",
      "source": [
        "!gdown 1JyTApScm6S5iz77uxH0qTaYtAhR6xxoj"
      ],
      "metadata": {
        "colab": {
          "base_uri": "https://localhost:8080/"
        },
        "id": "AH_LUuGP3LG5",
        "outputId": "390daf7d-8cf1-43d8-c6e5-4688f8a85a46"
      },
      "execution_count": null,
      "outputs": [
        {
          "output_type": "stream",
          "name": "stdout",
          "text": [
            "Downloading...\n",
            "From: https://drive.google.com/uc?id=1JyTApScm6S5iz77uxH0qTaYtAhR6xxoj\n",
            "To: /content/MTLNAS/datasets.zip\n",
            "100% 983M/983M [00:08<00:00, 112MB/s]\n"
          ]
        }
      ]
    },
    {
      "cell_type": "code",
      "source": [
        "!unzip weights_old.zip"
      ],
      "metadata": {
        "colab": {
          "base_uri": "https://localhost:8080/"
        },
        "id": "6XzAkqCE7-Tr",
        "outputId": "8d0c39ff-e98f-4685-edfd-3c6e169a8561"
      },
      "execution_count": null,
      "outputs": [
        {
          "output_type": "stream",
          "name": "stdout",
          "text": [
            "Archive:  weights_old.zip\n",
            "   creating: nyu_v2/\n",
            "  inflating: nyu_v2/tf_finetune_seg.pth  \n",
            "  inflating: nyu_v2/tf_finetune_normal.pth  \n",
            "   creating: vgg_deeplab_lfov/\n",
            "  inflating: vgg_deeplab_lfov/tf_deeplab.pth  \n"
          ]
        }
      ]
    },
    {
      "cell_type": "code",
      "source": [
        "!unzip datasets.zip"
      ],
      "metadata": {
        "id": "ThZcybZV3WjP"
      },
      "execution_count": null,
      "outputs": []
    },
    {
      "cell_type": "code",
      "source": [
        "!python tools/train.py --config-file configs/vgg/vgg_nyuv2_nddr.yaml"
      ],
      "metadata": {
        "colab": {
          "base_uri": "https://localhost:8080/"
        },
        "id": "n9k0gFtE9XZF",
        "outputId": "72bc7da4-6a52-4891-b7bd-13a3376fe033"
      },
      "execution_count": null,
      "outputs": [
        {
          "output_type": "stream",
          "name": "stdout",
          "text": [
            "/content/MTLNAS\n",
            "/content/MTLNAS\n",
            "Training with Config: \n",
            "ARCH:\n",
            "  ENTROPY_PERIOD: (0.0, 1.0)\n",
            "  ENTROPY_REGULARIZATION: False\n",
            "  ENTROPY_REGULARIZATION_WEIGHT: 10.0\n",
            "  HARD_ARCH_TRAINING: True\n",
            "  HARD_EVAL: True\n",
            "  HARD_WEIGHT_TRAINING: True\n",
            "  INIT_TEMP: 1.0\n",
            "  L1_OFF: False\n",
            "  L1_PERIOD: (0.0, 1.0)\n",
            "  L1_REGULARIZATION: False\n",
            "  L1_REGULARIZATION_WEIGHT: 5.0\n",
            "  LR: 0.003\n",
            "  MIXED_DATA: True\n",
            "  OPTIMIZER: \n",
            "  SEARCHSPACE: \n",
            "  STOCHASTIC_EVAL: False\n",
            "  TEMPERATURE_PERIOD: (0.0, 1.0)\n",
            "  TEMPERATURE_POWER: 2.0\n",
            "  TRAIN_SPLIT: 0.5\n",
            "  WEIGHTED_L1: False\n",
            "  WEIGHT_DECAY: 0.001\n",
            "CUDA: True\n",
            "DATASET: nyu_v2\n",
            "EXPERIMENT_NAME: vgg_nyuv2_nddr\n",
            "LOG_DIR: run\n",
            "MODEL:\n",
            "  BACKBONE: VGG16\n",
            "  BATCH_NORM_MOMENTUM: 0.05\n",
            "  INIT: (0.9, 0.1)\n",
            "  NDDR_BN_TYPE: default\n",
            "  NDDR_TYPE: \n",
            "  NET1_CLASSES: 40\n",
            "  NET2_CLASSES: 3\n",
            "  SHAREDFEATURE: False\n",
            "  SINGLETASK: False\n",
            "  SUPERNET: False\n",
            "  ZERO_BATCH_NORM_GAMMA: False\n",
            "SAVE_DIR: ckpts\n",
            "SEED: 1\n",
            "TASK: pixel\n",
            "TEST:\n",
            "  BATCH_SIZE: 10\n",
            "  CKPT_ID: 20000\n",
            "  RANDOM_CROP: False\n",
            "  RANDOM_MIRROR: False\n",
            "  RANDOM_SCALE: False\n",
            "TRAIN:\n",
            "  APEX: False\n",
            "  AUX: False\n",
            "  AUX_LAYERS: []\n",
            "  AUX_PERIOD: (0.0, 0.0)\n",
            "  AUX_WEIGHT: 0.4\n",
            "  BATCH_SIZE: 10\n",
            "  COLOR_JITTER: True\n",
            "  EVAL_CKPT: True\n",
            "  EVAL_INTERVAL: 1000\n",
            "  FC8_BIAS_FACTOR: 20.0\n",
            "  FC8_WEIGHT_FACTOR: 10.0\n",
            "  FREEZE_BASE: False\n",
            "  LOG_INTERVAL: 500\n",
            "  LR: 0.001\n",
            "  MOMENTUM: 0.9\n",
            "  NDDR_FACTOR: 100.0\n",
            "  OUTPUT_SIZE: (321, 321)\n",
            "  POWER: 0.9\n",
            "  RANDOM_CROP: True\n",
            "  RANDOM_MIRROR: True\n",
            "  RANDOM_SCALE: True\n",
            "  SAVE_INTERVAL: 5000\n",
            "  SCHEDULE: Poly\n",
            "  STEPS: 20001\n",
            "  TASK2_FACTOR: 20.0\n",
            "  WARMUP: 0\n",
            "  WEIGHT_1: Seg\n",
            "  WEIGHT_2: Normal\n",
            "  WEIGHT_DECAY: 0.00025\n",
            "Using color jitter\n",
            "Train Step: 0 [0/795 (0%)]\tLoss: 3.725678\tLoss1: 2.531692\tLoss2: 0.059699\n",
            "/usr/local/lib/python3.8/dist-packages/torch/optim/lr_scheduler.py:224: UserWarning: To get the last learning rate computed by the scheduler, please use `get_last_lr()`.\n",
            "  warnings.warn(\"To get the last learning rate computed by the scheduler, \"\n",
            "Mean IoU: 0.189\n",
            "Pixel Acc: 0.419\n",
            "Mean: 17.441\n",
            "Median: 15.833\n",
            "RMSE: 20.547\n",
            "11.25: 32.227\n",
            "22.5: 71.829\n",
            "30: 86.787\n",
            "45: 98.152\n",
            "Train Step: 500 [200/795 (25%)]\tLoss: 2.497943\tLoss1: 1.222728\tLoss2: 0.063761\n",
            "Train Step: 1000 [400/795 (50%)]\tLoss: 1.817573\tLoss1: 0.900720\tLoss2: 0.045843\n",
            "Train Step: 1500 [600/795 (75%)]\tLoss: 2.253451\tLoss1: 1.358696\tLoss2: 0.044738\n",
            "Train Step: 2000 [0/795 (0%)]\tLoss: 2.012001\tLoss1: 1.004705\tLoss2: 0.050365\n",
            "Train Step: 2500 [200/795 (25%)]\tLoss: 1.655727\tLoss1: 0.719433\tLoss2: 0.046815\n",
            "Train Step: 3000 [400/795 (50%)]\tLoss: 1.943268\tLoss1: 0.887120\tLoss2: 0.052807\n",
            "Train Step: 3500 [600/795 (75%)]\tLoss: 1.638226\tLoss1: 0.770618\tLoss2: 0.043380\n",
            "Train Step: 4000 [0/795 (0%)]\tLoss: 1.391195\tLoss1: 0.629712\tLoss2: 0.038074\n",
            "Traceback (most recent call last):\n",
            "  File \"tools/train.py\", line 220, in <module>\n",
            "    main()\n",
            "  File \"tools/train.py\", line 143, in main\n",
            "    for batch_idx, (image, label_1, label_2) in enumerate(train_loader):\n",
            "  File \"/usr/local/lib/python3.8/dist-packages/torch/utils/data/dataloader.py\", line 345, in __next__\n",
            "    data = self._next_data()\n",
            "  File \"/usr/local/lib/python3.8/dist-packages/torch/utils/data/dataloader.py\", line 385, in _next_data\n",
            "    data = self._dataset_fetcher.fetch(index)  # may raise StopIteration\n",
            "  File \"/usr/local/lib/python3.8/dist-packages/torch/utils/data/_utils/fetch.py\", line 44, in fetch\n",
            "    data = [self.dataset[idx] for idx in possibly_batched_index]\n",
            "  File \"/usr/local/lib/python3.8/dist-packages/torch/utils/data/_utils/fetch.py\", line 44, in <listcomp>\n",
            "    data = [self.dataset[idx] for idx in possibly_batched_index]\n",
            "  File \"/content/MTLNAS/core/data/loader.py\", line 91, in __getitem__\n",
            "    image = self.color_jitter(image)\n",
            "  File \"/usr/local/lib/python3.8/dist-packages/torchvision/transforms/transforms.py\", line 931, in __call__\n",
            "    return transform(img)\n",
            "  File \"/usr/local/lib/python3.8/dist-packages/torchvision/transforms/transforms.py\", line 70, in __call__\n",
            "    img = t(img)\n",
            "  File \"/usr/local/lib/python3.8/dist-packages/torchvision/transforms/transforms.py\", line 322, in __call__\n",
            "    return self.lambd(img)\n",
            "  File \"/usr/local/lib/python3.8/dist-packages/torchvision/transforms/transforms.py\", line 914, in <lambda>\n",
            "    transforms.append(Lambda(lambda img: F.adjust_hue(img, hue_factor)))\n",
            "  File \"/usr/local/lib/python3.8/dist-packages/torchvision/transforms/functional.py\", line 659, in adjust_hue\n",
            "    img = Image.merge('HSV', (h, s, v)).convert(input_mode)\n",
            "  File \"/usr/local/lib/python3.8/dist-packages/PIL/Image.py\", line 995, in convert\n",
            "    im = self.im.convert(mode, dither)\n",
            "KeyboardInterrupt\n",
            "^C\n"
          ]
        }
      ]
    },
    {
      "cell_type": "code",
      "source": [
        "!CUDA_VISIBLE_DEVICES=0 python tools/train_nas.py --config-file configs/ablation/vgg_nyuv2_default.yaml"
      ],
      "metadata": {
        "id": "8CRXwkjh3uBJ"
      },
      "execution_count": null,
      "outputs": []
    },
    {
      "cell_type": "code",
      "source": [
        "!CUDA_VISIBLE_DEVICES=0 python tools/eval.py --config-file configs/vgg/vgg_nyuv2_nddr.yaml"
      ],
      "metadata": {
        "id": "y3KDM1WW50DR"
      },
      "execution_count": null,
      "outputs": []
    },
    {
      "cell_type": "code",
      "source": [
        "!CUDA_VISIBLE_DEVICES=0 python tools/eval_nas.py --config-file configs/ablation/vgg_nyuv2_default.yaml"
      ],
      "metadata": {
        "id": "MXp5NqBX55Wf"
      },
      "execution_count": null,
      "outputs": []
    }
  ],
  "metadata": {
    "accelerator": "GPU",
    "colab": {
      "provenance": [],
      "include_colab_link": true
    },
    "gpuClass": "standard",
    "kernelspec": {
      "display_name": "Python 3",
      "name": "python3"
    },
    "language_info": {
      "name": "python"
    }
  },
  "nbformat": 4,
  "nbformat_minor": 0
}